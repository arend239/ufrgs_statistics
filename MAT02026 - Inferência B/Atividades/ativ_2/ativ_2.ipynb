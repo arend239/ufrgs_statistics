{
 "cells": [
  {
   "cell_type": "markdown",
   "metadata": {},
   "source": [
    "# Inferência B - Atividade 2 - \n",
    "#### João Vitor da S. Arend - 00577787"
   ]
  },
  {
   "cell_type": "markdown",
   "metadata": {},
   "source": [
    "Para os exemplos da Uniforme e da Exponencial: \n",
    "1. Gerar da dados com n = 20 e $\\theta$ = 2 (no R usar $\\frac{1}{\\theta}$ para exponencial);\n",
    "2. Construir o IC para ambos os casos usando $\\gamma$ = 0.99;\n",
    "3. Verificar se o IC contém $\\theta$ = 2 e anotar; \n",
    "4. Fazer monte carlo e contar quantas vezes o IC conteve o $\\theta$; \n",
    "5. Estimar a probabilidade de cobertura (espara-se que esteja próximo de $\\gamma$) "
   ]
  },
  {
   "cell_type": "markdown",
   "metadata": {},
   "source": [
    "Intervalos de confiança:\n",
    "\n",
    "Uniforme: \n",
    "$$\n",
    "\n",
    "IC = [\\frac{X_{max}}{F^{-1}_{Beta}(1 - \\frac{\\alpha}{2}, n, 1)}, \\frac{X_{max}}{F^{-1}_{Beta}(\\frac{\\alpha}{2}, n, 1)}]\n",
    "\\quad\n",
    "ou\n",
    "\\quad\n",
    "\n",
    "\n",
    "\n",
    "IC = [\\frac{X_{max}}{(1 - \\frac{\\alpha}{2})^{1/n}}, \\frac{X_{max}}{(\\frac{\\alpha}{2})^{1/n}}]\n",
    "\n",
    "$$\n",
    "\n",
    "Exponencial: \n",
    "$$\n",
    "\n",
    "IC = [\\frac{2S}{\\chi^2_{\\alpha / 2, 2n}}, \\frac{2S}{\\chi^2_{1 - (\\alpha / 2),  2n}}]\n",
    "\n",
    "$$\n",
    "\n"
   ]
  },
  {
   "cell_type": "code",
   "execution_count": 1,
   "metadata": {
    "vscode": {
     "languageId": "r"
    }
   },
   "outputs": [
    {
     "name": "stdout",
     "output_type": "stream",
     "text": [
      "Probabilidade de cobertura; \n",
      " uniforme:  0.989699 \n",
      " exponencial:  0.9894989 \n"
     ]
    }
   ],
   "source": [
    "n     = 20\n",
    "theta = 2\n",
    "gamma = 0.99\n",
    "alpha   = 1 - gamma\n",
    "\n",
    "n_simulations     = 9999\n",
    "ic_contem_theta_u = 0\n",
    "ic_contem_theta_e = 0\n",
    "\n",
    "for (i in 1:n_simulations) {\n",
    "    uni_sample <- runif(n, 0, theta)\n",
    "    exp_sample <- rexp(n, rate = 1 / theta)\n",
    "\n",
    "    # Uniforme\n",
    "    x_max = max(uni_sample)\n",
    "    # teste com quantil beta conforme:\n",
    "    # https://math.mit.edu/~dav/05.dir/class23-slides-all.pdf\n",
    "    # inf_lim <- x_max / qbeta(1 - alpha / 2, n, 1)\n",
    "    # sup_lim <- x_max / qbeta(alpha / 2, n, 1)\n",
    "\n",
    "    inf_lim <- x_max / ((1 + gamma) / 2)^(1 / n)\n",
    "    sup_lim <- x_max / (alpha / 2)^(1 / n)\n",
    "    if (inf_lim <= theta && theta <= sup_lim)\n",
    "        {ic_contem_theta_u <- ic_contem_theta_u + 1}\n",
    "\n",
    "    # Exponencial\n",
    "    inf_lim <- (2 * sum(exp_sample)) / qchisq(1 - (alpha / 2), 2 * n)\n",
    "    sup_lim <- (2 * sum(exp_sample)) / qchisq(alpha / 2, 2 * n)\n",
    "    if (inf_lim <= theta && theta <= sup_lim)\n",
    "        {ic_contem_theta_e <- ic_contem_theta_e + 1}\n",
    "}\n",
    "\n",
    "cat(\"Probabilidade de cobertura; \\n\",\n",
    "    \"uniforme: \", ic_contem_theta_u / n_simulations, \"\\n\",\n",
    "    \"exponencial: \", ic_contem_theta_e / n_simulations, \"\\n\")"
   ]
  }
 ],
 "metadata": {
  "kernelspec": {
   "display_name": "R",
   "language": "R",
   "name": "ir"
  },
  "language_info": {
   "codemirror_mode": "r",
   "file_extension": ".r",
   "mimetype": "text/x-r-source",
   "name": "R",
   "pygments_lexer": "r",
   "version": "4.4.1"
  }
 },
 "nbformat": 4,
 "nbformat_minor": 2
}
