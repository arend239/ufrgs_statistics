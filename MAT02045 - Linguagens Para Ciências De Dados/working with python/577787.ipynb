{
  "cells": [
    {
      "cell_type": "markdown",
      "metadata": {
        "id": "FvsnHIvcgy6n"
      },
      "source": [
        "# Preâmbulo do trabalho\n",
        "Carregando a instalando pacotes necessários"
      ]
    },
    {
      "cell_type": "code",
      "execution_count": 52,
      "metadata": {
        "colab": {
          "base_uri": "https://localhost:8080/"
        },
        "id": "wuikjO6x8O-d",
        "outputId": "e086cdb8-5d6d-480c-c8e0-0cfb9bee727c"
      },
      "outputs": [
        {
          "name": "stdout",
          "output_type": "stream",
          "text": [
            "Requirement already satisfied: faker in /usr/local/lib/python3.10/dist-packages (22.5.1)\n",
            "Requirement already satisfied: python-dateutil>=2.4 in /usr/local/lib/python3.10/dist-packages (from faker) (2.8.2)\n",
            "Requirement already satisfied: six>=1.5 in /usr/local/lib/python3.10/dist-packages (from python-dateutil>=2.4->faker) (1.16.0)\n"
          ]
        }
      ],
      "source": [
        "import pandas as pd\n",
        "!pip install faker\n",
        "from faker import Faker\n",
        "from random import randint\n",
        "from random import sample"
      ]
    },
    {
      "cell_type": "markdown",
      "metadata": {
        "id": "ZZ82EnBZg9L-"
      },
      "source": [
        "# Funções de criação do banco de dados\n",
        "Aqui são geradas as funções que, posteriormente, serão usadas para criar os diferentes bancos de dados."
      ]
    },
    {
      "cell_type": "code",
      "execution_count": 53,
      "metadata": {
        "id": "dmcgBSVW8eb4"
      },
      "outputs": [],
      "source": [
        "fake = Faker(\"pt_BR\")\n",
        "\n",
        "def vend(x):\n",
        "    # pandas dataframe\n",
        "    data = pd.DataFrame()\n",
        "    data['id'] = sample(range(10),x)\n",
        "    for i in range(0, x):\n",
        "        data.loc[i,'nome'] = fake.first_name()\n",
        "    return data\n",
        "\n",
        "def empresa(x):\n",
        "    # pandas dataframe\n",
        "    data = pd.DataFrame()\n",
        "    data['id'] = sample(range(15),x)\n",
        "    for i in range(0, x):\n",
        "        data.loc[i,'empresa']= fake.company()\n",
        "    return data\n",
        "\n",
        "def dados(x):\n",
        "    # pandas dataframe\n",
        "    data = pd.DataFrame()\n",
        "    for i in range(0, x):\n",
        "        data.loc[i,'id_vend']= sample(range(10),1)[0]\n",
        "        data.loc[i,'id_empr']= sample(range(15),1)[0]\n",
        "        data.loc[i,'estado']= fake.estado_sigla()\n",
        "        data.loc[i,'vendas']= sample(range(2,125),1)[0]\n",
        "        data.loc[i,'valor']= data.loc[i,'vendas'] * randint(5,20)\n",
        "    return data"
      ]
    },
    {
      "cell_type": "markdown",
      "metadata": {
        "id": "8MAKIWZMhOG4"
      },
      "source": [
        "# Geração do banco de dados para as análises\n",
        "Importante deixar claro que apenas o comando *Faker.seed* deve ser modificado com o número do cartão. Os demais valores seguem os mesmos."
      ]
    },
    {
      "cell_type": "code",
      "execution_count": 54,
      "metadata": {
        "id": "TC8XTGIEAEIM"
      },
      "outputs": [],
      "source": [
        "Faker.seed(577787)  ## substituir o valor entre parentêses pelo número do cartão"
      ]
    },
    {
      "cell_type": "code",
      "execution_count": 55,
      "metadata": {
        "id": "xIn_hTHhAIjy"
      },
      "outputs": [],
      "source": [
        "vendedores = vend(5);  ## codigo dos vendedores conhecidos\n",
        "empresas = empresa(10);  ## codigo das empresas conhecidas\n",
        "dados = dados(300);  ## banco de dados das vendas"
      ]
    },
    {
      "cell_type": "code",
      "execution_count": 56,
      "metadata": {
        "id": "abwo8VjLAR79"
      },
      "outputs": [],
      "source": [
        "# Abaixo segue o código do trabalho propriamente dito. Bom trabalho!"
      ]
    },
    {
      "cell_type": "markdown",
      "metadata": {
        "id": "m8nHccfTtI2I"
      },
      "source": [
        "\n",
        "# Início do código de solução\n"
      ]
    },
    {
      "cell_type": "markdown",
      "metadata": {
        "id": "AU8ZqcWH1VHK"
      },
      "source": [
        "Montando a amostra aleatória simples e adicionando a ela o nome da empresa e vendedor"
      ]
    },
    {
      "cell_type": "code",
      "execution_count": 57,
      "metadata": {
        "id": "GFMA_In4rENV"
      },
      "outputs": [],
      "source": [
        "dados_descritiva = dados.sample(frac = 0.4)\n",
        "\n",
        "dados_descritiva = pd.merge(dados_descritiva, vendedores, how='left', left_on='id_vend', right_on='id')\n",
        "dados_descritiva = dados_descritiva.drop('id', axis=1)\n",
        "dados_descritiva['nome'].fillna('Desconhecido', inplace=True)\n",
        "\n",
        "dados_descritiva = pd.merge(dados_descritiva, empresas, how='left', left_on='id_empr', right_on='id')\n",
        "dados_descritiva = dados_descritiva.drop('id', axis=1)\n",
        "dados_descritiva['empresa'].fillna('Não Informado', inplace=True)\n"
      ]
    },
    {
      "cell_type": "markdown",
      "metadata": {
        "id": "aNUJhaYYtGd1"
      },
      "source": [
        "Montando os \"rankings\" de acordo com as especificações apresentadas:"
      ]
    },
    {
      "cell_type": "code",
      "execution_count": 58,
      "metadata": {
        "id": "HsUHexVj3F_q"
      },
      "outputs": [],
      "source": [
        "respostas = ['dados_descritiva']\n",
        "\n",
        "comb = [('id_vend', 'vendas'),\n",
        "        ('id_vend', 'valor'),\n",
        "        ('id_empr', 'vendas'),\n",
        "        ('id_empr', 'valor')]\n",
        "\n",
        "for a, b in comb:\n",
        "\n",
        "  temp_df_name = f'resum_{a}_{b}'\n",
        "  temp_df = dados_descritiva.groupby(a)[b].sum().reset_index()\n",
        "\n",
        "  if a == 'id_vend':\n",
        "    temp_df = pd.merge(temp_df, vendedores, how='left', left_on=a, right_on='id')\n",
        "    temp_df = temp_df.drop('id', axis=1)\n",
        "    temp_df['nome'].fillna('Desconhecido', inplace=True)\n",
        "  else:\n",
        "    temp_df = pd.merge(temp_df, empresas, how='left', left_on=a, right_on='id')\n",
        "    temp_df = temp_df.drop('id', axis=1)\n",
        "    temp_df['empresa'].fillna('Não Informado', inplace=True)\n",
        "\n",
        "  temp_df = temp_df.sort_values(by=b, ascending=False)\n",
        "\n",
        "  locals()[temp_df_name] = temp_df\n",
        "  respostas.append(temp_df_name)"
      ]
    },
    {
      "cell_type": "markdown",
      "metadata": {
        "id": "oSvJ2M3PuP62"
      },
      "source": [
        "Mostrando todos os dataframes montados anteriormente:"
      ]
    },
    {
      "cell_type": "code",
      "execution_count": 59,
      "metadata": {
        "colab": {
          "base_uri": "https://localhost:8080/"
        },
        "id": "ApUB2rK_8iKf",
        "outputId": "04515ea7-8088-49f3-b0fb-9417e326039a"
      },
      "outputs": [
        {
          "name": "stdout",
          "output_type": "stream",
          "text": [
            "     id_vend  id_empr estado  vendas   valor          nome             empresa\n",
            "0        9.0      8.0     RS    80.0  1440.0         Kevin       Não Informado\n",
            "1        5.0      3.0     PR    14.0   252.0  Desconhecido             Peixoto\n",
            "2        1.0      9.0     GO    48.0   432.0  Desconhecido       Não Informado\n",
            "3        9.0     13.0     AP    88.0  1496.0         Kevin       da Rocha - ME\n",
            "4        5.0     12.0     PB   117.0  2106.0  Desconhecido             Rezende\n",
            "..       ...      ...    ...     ...     ...           ...                 ...\n",
            "115      6.0      2.0     PB    32.0   224.0  Desconhecido       Não Informado\n",
            "116      3.0      4.0     RO    75.0  1500.0         Maitê   Vieira Jesus - ME\n",
            "117      7.0      1.0     BA    86.0  1720.0         Luana  Duarte Cardoso S/A\n",
            "118      9.0      7.0     GO    72.0  1152.0         Kevin             Moreira\n",
            "119      9.0     10.0     RN    88.0  1408.0         Kevin               Porto\n",
            "\n",
            "[120 rows x 7 columns]\n",
            "########################################\n",
            "   id_vend  vendas          nome\n",
            "9      9.0  1035.0         Kevin\n",
            "5      5.0   946.0  Desconhecido\n",
            "0      0.0   806.0     Emanuella\n",
            "4      4.0   796.0  Desconhecido\n",
            "2      2.0   794.0       Eduardo\n",
            "3      3.0   557.0         Maitê\n",
            "8      8.0   524.0  Desconhecido\n",
            "7      7.0   472.0         Luana\n",
            "1      1.0   439.0  Desconhecido\n",
            "6      6.0   419.0  Desconhecido\n",
            "########################################\n",
            "   id_vend    valor          nome\n",
            "9      9.0  13919.0         Kevin\n",
            "5      5.0  12995.0  Desconhecido\n",
            "2      2.0  11045.0       Eduardo\n",
            "4      4.0  10657.0  Desconhecido\n",
            "0      0.0  10418.0     Emanuella\n",
            "3      3.0   7187.0         Maitê\n",
            "7      7.0   6903.0         Luana\n",
            "1      1.0   6470.0  Desconhecido\n",
            "8      8.0   5210.0  Desconhecido\n",
            "6      6.0   4942.0  Desconhecido\n",
            "########################################\n",
            "    id_empr  vendas             empresa\n",
            "1       1.0   736.0  Duarte Cardoso S/A\n",
            "9       9.0   668.0       Não Informado\n",
            "2       2.0   537.0       Não Informado\n",
            "14     14.0   499.0          Jesus - EI\n",
            "7       7.0   484.0             Moreira\n",
            "11     11.0   471.0       Não Informado\n",
            "3       3.0   452.0             Peixoto\n",
            "13     13.0   447.0       da Rocha - ME\n",
            "6       6.0   432.0            Ferreira\n",
            "4       4.0   420.0   Vieira Jesus - ME\n",
            "12     12.0   419.0             Rezende\n",
            "5       5.0   338.0               Moura\n",
            "0       0.0   336.0       Não Informado\n",
            "8       8.0   289.0       Não Informado\n",
            "10     10.0   260.0               Porto\n",
            "########################################\n",
            "    id_empr   valor             empresa\n",
            "1       1.0  9008.0  Duarte Cardoso S/A\n",
            "14     14.0  7779.0          Jesus - EI\n",
            "2       2.0  7517.0       Não Informado\n",
            "9       9.0  6910.0       Não Informado\n",
            "12     12.0  6614.0             Rezende\n",
            "11     11.0  6483.0       Não Informado\n",
            "7       7.0  6287.0             Moreira\n",
            "4       4.0  6092.0   Vieira Jesus - ME\n",
            "6       6.0  5628.0            Ferreira\n",
            "13     13.0  5591.0       da Rocha - ME\n",
            "3       3.0  5049.0             Peixoto\n",
            "8       8.0  4490.0       Não Informado\n",
            "10     10.0  4411.0               Porto\n",
            "5       5.0  4167.0               Moura\n",
            "0       0.0  3720.0       Não Informado\n",
            "########################################\n"
          ]
        }
      ],
      "source": [
        "for i in respostas:\n",
        "  j = locals()[i]\n",
        "  print(j)\n",
        "  print('##' * 20)"
      ]
    }
  ],
  "metadata": {
    "colab": {
      "collapsed_sections": [
        "m8nHccfTtI2I"
      ],
      "provenance": []
    },
    "kernelspec": {
      "display_name": "Python 3",
      "name": "python3"
    },
    "language_info": {
      "name": "python"
    }
  },
  "nbformat": 4,
  "nbformat_minor": 0
}
